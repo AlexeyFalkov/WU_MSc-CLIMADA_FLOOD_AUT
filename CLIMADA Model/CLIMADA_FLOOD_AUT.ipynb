{
 "cells": [
  {
   "cell_type": "markdown",
   "metadata": {},
   "source": [
    "# Initialisation of Python libraries"
   ]
  },
  {
   "cell_type": "code",
   "execution_count": null,
   "metadata": {},
   "outputs": [],
   "source": [
    "import pandas as pd\n",
    "import numpy as np\n",
    "import matplotlib.pyplot as plt"
   ]
  },
  {
   "cell_type": "code",
   "execution_count": null,
   "metadata": {},
   "outputs": [],
   "source": [
    "import rasterio\n",
    "from osgeo import gdal\n",
    "import geopandas as gpd\n",
    "import shapely\n",
    "import contextily as ctx\n",
    "from shapely.geometry import Point\n",
    "from shapely.geometry import Polygon\n",
    "from shapely.geometry import box\n",
    "from scipy.spatial import Voronoi"
   ]
  },
  {
   "cell_type": "code",
   "execution_count": null,
   "metadata": {},
   "outputs": [],
   "source": [
    "from climada_petals.hazard.river_flood import RiverFlood\n",
    "from climada.hazard.centroids import Centroids\n",
    "from climada.entity import LitPop\n",
    "from climada_petals.entity.impact_funcs.river_flood import ImpfRiverFlood,flood_imp_func_set\n",
    "from climada.engine import ImpactCalc\n",
    "from climada.entity import Exposures\n",
    "from climada import CONFIG"
   ]
  },
  {
   "cell_type": "code",
   "execution_count": null,
   "metadata": {},
   "outputs": [],
   "source": [
    "import osmnx as ox\n",
    "\n",
    "import os\n",
    "import osm_flex\n",
    "import osm_flex.download\n",
    "import osm_flex.extract\n",
    "import osm_flex.clip\n",
    "import osm_flex.simplify\n",
    "\n",
    "osm_flex.enable_logs()"
   ]
  },
  {
   "cell_type": "markdown",
   "metadata": {},
   "source": [
    "# Hazard Module"
   ]
  },
  {
   "cell_type": "code",
   "execution_count": null,
   "metadata": {},
   "outputs": [],
   "source": [
    "years = [2024,2025,2026,2027,2028]"
   ]
  },
  {
   "cell_type": "markdown",
   "metadata": {},
   "source": [
    "## Creating CLIMADA Hazard instance under RCP2.6"
   ]
  },
  {
   "cell_type": "code",
   "execution_count": null,
   "metadata": {
    "ExecuteTime": {
     "end_time": "2021-03-05T11:49:36.609264Z",
     "start_time": "2021-03-05T11:49:33.835409Z"
    }
   },
   "outputs": [],
   "source": [
    "rf_26 = RiverFlood.from_nc(countries = ['AUT'], years=years, dph_path='cama-flood_clm45_gfdl-esm2m_ewembi_rcp26_2005soc_co2_flddph_none_150arcsec_global_annual_2006_2100.nc4', \n",
    "                          frc_path='cama-flood_clm45_gfdl-esm2m_ewembi_rcp26_2005soc_co2_fldfrc_none_150arcsec_global_annual_2006_2100.nc4', ISINatIDGrid=True)\n",
    "rf_26.event_name\n",
    "\n",
    "rf_26.centroids.plot()\n",
    "\n",
    "rf_26.plot_intensity(event=0, smooth = False);\n",
    "rf_26.plot_fraction(event=0, smooth = False);\n",
    "\n",
    "rf_26.set_flooded_area(save_centr = True)\n",
    "print(\"Affected area in each affected centroid and each event:\")\n",
    "print(rf_26.fla_ev_centr.data)\n",
    "\n",
    "for i in range(len(years)):\n",
    "    print(\"Total flooded area for year \" + str(years[i]) + \" in Austria:\")\n",
    "    print(str(rf_26.fla_annual[i]) + \" m2\")\n",
    "\n",
    "print(\"Average flooded area per year in Austria:\")\n",
    "print(str(rf_26.fla_ann_av) + \" m2\")"
   ]
  },
  {
   "cell_type": "markdown",
   "metadata": {},
   "source": [
    "## Creating CLIMADA Hazard instance under RCP6.0"
   ]
  },
  {
   "cell_type": "code",
   "execution_count": null,
   "metadata": {},
   "outputs": [],
   "source": [
    "rf_60 = RiverFlood.from_nc(countries = ['AUT'], years=years, dph_path='cama-flood_clm45_gfdl-esm2m_ewembi_rcp60_2005soc_co2_flddph_none_150arcsec_global_annual_2006_2100.nc4', \n",
    "                            frc_path='cama-flood_clm45_gfdl-esm2m_ewembi_rcp60_2005soc_co2_fldfrc_none_150arcsec_global_annual_2006_2100.nc4', ISINatIDGrid=True)\n",
    "rf_60.event_name\n",
    "\n",
    "rf_60.centroids.plot()\n",
    "\n",
    "rf_60.plot_intensity(event=0, smooth = False);\n",
    "rf_60.plot_fraction(event=0, smooth = False);\n",
    "\n",
    "rf_60.set_flooded_area(save_centr = True)\n",
    "print(\"Affected area in each affected centroid and each event:\")\n",
    "print(rf_60.fla_ev_centr.data)\n",
    "\n",
    "for i in range(len(years)):\n",
    "    print(\"Total flooded area for year \" + str(years[i]) + \" in Austria:\")\n",
    "    print(str(rf_60.fla_annual[i]) + \" m2\")\n",
    "\n",
    "print(\"Average flooded area per year in Austria:\")\n",
    "print(str(rf_60.fla_ann_av) + \" m2\")"
   ]
  },
  {
   "cell_type": "markdown",
   "metadata": {},
   "source": [
    "## Creating CLIMADA Hazard instance under RCP8.5"
   ]
  },
  {
   "cell_type": "code",
   "execution_count": null,
   "metadata": {},
   "outputs": [],
   "source": [
    "rf_85 = RiverFlood.from_nc(countries = ['AUT'], years=years, dph_path='cama-flood_clm45_gfdl-esm2m_ewembi_rcp85_2005soc_co2_flddph_none_150arcsec_global_annual_2006_2100.nc4', \n",
    "                                frc_path='cama-flood_clm45_gfdl-esm2m_ewembi_rcp85_2005soc_co2_fldfrc_none_150arcsec_global_annual_2006_2100.nc4', ISINatIDGrid=True)\n",
    "rf_85.event_name\n",
    "\n",
    "rf_85.centroids.plot()\n",
    "\n",
    "rf_85.plot_intensity(event=0, smooth = False);\n",
    "rf_85.plot_fraction(event=0, smooth = False);\n",
    "\n",
    "rf_85.set_flooded_area(save_centr = True)\n",
    "print(\"Affected area in each affected centroid and each event:\")\n",
    "print(rf_85.fla_ev_centr.data)\n",
    "\n",
    "for i in range(len(years)):\n",
    "    print(\"Total flooded area for year \" + str(years[i]) + \" in Austria:\")\n",
    "    print(str(rf_85.fla_annual[i]) + \" m2\")\n",
    "\n",
    "print(\"Average flooded area per year in Austria:\")\n",
    "print(str(rf_85.fla_ann_av) + \" m2\")"
   ]
  },
  {
   "cell_type": "markdown",
   "metadata": {},
   "source": [
    "# Exposure Module - assets"
   ]
  },
  {
   "cell_type": "markdown",
   "metadata": {},
   "source": [
    "## Defining functions"
   ]
  },
  {
   "cell_type": "code",
   "execution_count": null,
   "metadata": {},
   "outputs": [],
   "source": [
    "def prep_haberl_mod2(input_tiff, category_id):\n",
    "    data = {\n",
    "        'latitude': [],\n",
    "        'longitude': [],\n",
    "        'value': [],\n",
    "    }\n",
    "\n",
    "    with rasterio.open(input_tiff) as src:\n",
    "        nodata = src.nodata\n",
    "        transform = src.transform\n",
    "        src_crs = src.crs\n",
    "        \n",
    "        for ji, window in src.block_windows(1):\n",
    "            block = src.read(1, window=window)\n",
    "            if nodata is not None:\n",
    "                mask = block != nodata\n",
    "            else:\n",
    "                mask = block != 0 \n",
    "\n",
    "            if not mask.any():\n",
    "                continue \n",
    "\n",
    "            rows, cols = mask.nonzero()\n",
    "            block_values = block[rows, cols]\n",
    "\n",
    "            abs_rows = rows + window.row_off\n",
    "            abs_cols = cols + window.col_off\n",
    "\n",
    "            xs, ys = rasterio.transform.xy(transform, abs_rows, abs_cols, offset='center')\n",
    "\n",
    "            data['longitude'].extend(xs)\n",
    "            data['latitude'].extend(ys)\n",
    "            data['value'].extend(block_values)\n",
    "\n",
    "    if not data['value']:\n",
    "        return gpd.GeoDataFrame(columns=['latitude', 'longitude', 'value', 'region_id', 'category_id', 'geometry', 'impf_RF'], crs=\"EPSG:3035\")\n",
    "\n",
    "    df = pd.DataFrame(data)\n",
    "    df['region_id'] = 30\n",
    "    df['category_id'] = category_id\n",
    "\n",
    "    df = df[df['value'] != 0]\n",
    "\n",
    "    gdf = gpd.GeoDataFrame(\n",
    "        df,\n",
    "        geometry=gpd.points_from_xy(df['longitude'], df['latitude']),\n",
    "        crs=src_crs\n",
    "    )\n",
    "    gdf = gdf.to_crs(\"EPSG:4326\")\n",
    "    gdf['impf_RF'] = gdf['region_id'] + gdf['category_id']\n",
    "\n",
    "    return gdf\n"
   ]
  },
  {
   "cell_type": "code",
   "execution_count": null,
   "metadata": {},
   "outputs": [],
   "source": [
    "def filter_zero_values(input_tiff, category_id, window_size):\n",
    "\n",
    "    filtered_data = []\n",
    "\n",
    "    with rasterio.open(input_tiff) as src:\n",
    "        nodata = src.nodata\n",
    "        transform = src.transform\n",
    "        width, height = src.width, src.height\n",
    "        \n",
    "        for i in range(0, height, window_size):\n",
    "            for j in range(0, width, window_size):\n",
    "                window = rasterio.windows.Window(j, i, window_size, window_size)\n",
    "                block = src.read(1, window=window)\n",
    "\n",
    "                if nodata is not None:\n",
    "                    mask = block != nodata\n",
    "                else:\n",
    "                    mask = block != 0 \n",
    "\n",
    "                rows, cols = mask.nonzero()\n",
    "                block_values = block[rows, cols]\n",
    "\n",
    "                abs_rows = rows + window.row_off\n",
    "                abs_cols = cols + window.col_off\n",
    "\n",
    "                xs, ys = rasterio.transform.xy(transform, abs_rows, abs_cols, offset='center')\n",
    "\n",
    "                for x, y, value in zip(xs, ys, block_values):\n",
    "                    if value != 0: \n",
    "                        filtered_data.append({\n",
    "                            'longitude': x,\n",
    "                            'latitude': y,\n",
    "                            'value': value,\n",
    "                            'category_id': category_id\n",
    "                        })\n",
    "    \n",
    "    return filtered_data\n"
   ]
  },
  {
   "cell_type": "code",
   "execution_count": null,
   "metadata": {},
   "outputs": [],
   "source": [
    "def convert_to_geodataframe(filtered_data, src_crs, output_file):\n",
    "\n",
    "    if not filtered_data:\n",
    "        print(\"No data to process.\")\n",
    "        return None\n",
    "\n",
    "    df = pd.DataFrame(filtered_data)\n",
    "    \n",
    "    df['geometry'] = df.apply(lambda row: Point(row['longitude'], row['latitude']), axis=1)\n",
    "    \n",
    "    gdf = gpd.GeoDataFrame(df, geometry='geometry', crs=src_crs)\n",
    "    \n",
    "    gdf = gdf.to_crs(\"EPSG:4326\")\n",
    "\n",
    "    gdf['impf_RF'] = gdf['category_id'] + 30\n",
    "    \n",
    "    gdf.to_file(output_file, driver=\"GPKG\", mode=\"w\")\n",
    "    print(f\"Finished processing and saved to {output_file}\")\n",
    "    \n",
    "    return gdf"
   ]
  },
  {
   "cell_type": "markdown",
   "metadata": {},
   "source": [
    "## Processing of Austrian regions"
   ]
  },
  {
   "cell_type": "markdown",
   "metadata": {},
   "source": [
    "### VO"
   ]
  },
  {
   "cell_type": "code",
   "execution_count": null,
   "metadata": {},
   "outputs": [],
   "source": [
    "vrt_files = ['C:/Users/aafal/CLIMADA_WD/climada_petals/doc/Projects/AT_VO//mosaic/AT_VO_MASS_BUILDING_HIGHRISE_TOTAL.vrt', \n",
    "             'C:/Users/aafal/CLIMADA_WD/climada_petals/doc/Projects/AT_VO//mosaic/AT_VO_MASS_BUILDING_LIGHTWEIGHT_TOTAL.vrt', \n",
    "             'C:/Users/aafal/CLIMADA_WD/climada_petals/doc/Projects/AT_VO//mosaic/AT_VO_MASS_BUILDING_MULTIFAMILY_TOTAL.vrt',\n",
    "             'C:/Users/aafal/CLIMADA_WD/climada_petals/doc/Projects/AT_VO//mosaic/AT_VO_MASS_BUILDING_SINGLEFAMILY_TOTAL.vrt']\n",
    "\n",
    "datasets = [gdal.Open(vrt) for vrt in vrt_files]\n",
    "\n",
    "vrt_merged = gdal.BuildVRT(\"temp_merged.vrt\", datasets)\n",
    "\n",
    "gdal.Translate(\"vo_residential.tif\", vrt_merged)"
   ]
  },
  {
   "cell_type": "code",
   "execution_count": null,
   "metadata": {},
   "outputs": [],
   "source": [
    "vrt_files = ['C:/Users/aafal/CLIMADA_WD/climada_petals/doc/Projects/AT_VO//mosaic/AT_VO_MASS_BUILDING_COMMERCIAL_TOTAL.vrt']\n",
    "\n",
    "datasets = [gdal.Open(vrt) for vrt in vrt_files]\n",
    "\n",
    "vrt_merged = gdal.BuildVRT(\"temp_merged.vrt\", datasets)\n",
    "\n",
    "gdal.Translate(\"vo_commercial.tif\", vrt_merged)"
   ]
  },
  {
   "cell_type": "code",
   "execution_count": null,
   "metadata": {},
   "outputs": [],
   "source": [
    "vrt_files = ['C:/Users/aafal/CLIMADA_WD/climada_petals/doc/Projects/AT_VO//mosaic/AT_VO_MASS_PARKING_TOTAL.vrt',\n",
    "            'C:/Users/aafal/CLIMADA_WD/climada_petals/doc/Projects/AT_VO//mosaic/AT_VO_MASS_RUNWAY_TOTAL.vrt']\n",
    "\n",
    "datasets = [gdal.Open(vrt) for vrt in vrt_files]\n",
    "\n",
    "vrt_merged = gdal.BuildVRT(\"temp_merged.vrt\", datasets)\n",
    "\n",
    "gdal.Translate(\"vo_transport.tif\", vrt_merged)"
   ]
  },
  {
   "cell_type": "code",
   "execution_count": null,
   "metadata": {},
   "outputs": [],
   "source": [
    "vrt_files = ['C:/Users/aafal/CLIMADA_WD/climada_petals/doc/Projects/AT_VO//mosaic/AT_VO_MASS_RAIL_TOTAL.vrt',\n",
    "            'C:/Users/aafal/CLIMADA_WD/climada_petals/doc/Projects/AT_VO//mosaic/AT_VO_MASS_STREET_TOTAL.vrt']\n",
    "\n",
    "datasets = [gdal.Open(vrt) for vrt in vrt_files]\n",
    "\n",
    "vrt_merged = gdal.BuildVRT(\"temp_merged.vrt\", datasets)\n",
    "\n",
    "gdal.Translate(\"vo_infrastructure.tif\", vrt_merged)"
   ]
  },
  {
   "cell_type": "code",
   "execution_count": null,
   "metadata": {},
   "outputs": [],
   "source": [
    "vo_res = prep_haberl_mod2('vo_residential.tif', 1)\n",
    "vo_com = prep_haberl_mod2('vo_commercial.tif', 3)\n",
    "vo_tra = prep_haberl_mod2('vo_transport.tif', 4)\n",
    "vo_inf = prep_haberl_mod2('vo_infrastructure.tif', 5)"
   ]
  },
  {
   "cell_type": "code",
   "execution_count": null,
   "metadata": {},
   "outputs": [],
   "source": [
    "total_vo_gdf= pd.concat([vo_res, vo_com, vo_tra, vo_inf], ignore_index=True)\n",
    "total_vo_gdf"
   ]
  },
  {
   "cell_type": "code",
   "execution_count": null,
   "metadata": {},
   "outputs": [],
   "source": [
    "total_vo_gdf.to_file('total_vo_gdf', driver=\"GPKG\")"
   ]
  },
  {
   "cell_type": "markdown",
   "metadata": {},
   "source": [
    "### SZ"
   ]
  },
  {
   "cell_type": "code",
   "execution_count": null,
   "metadata": {},
   "outputs": [],
   "source": [
    "vrt_files = ['C:/Users/aafal/CLIMADA_WD/climada_petals/doc/Projects/AT_SZ//mosaic/AT_SZ_MASS_BUILDING_HIGHRISE_TOTAL.vrt', \n",
    "             'C:/Users/aafal/CLIMADA_WD/climada_petals/doc/Projects/AT_SZ//mosaic/AT_SZ_MASS_BUILDING_LIGHTWEIGHT_TOTAL.vrt', \n",
    "             'C:/Users/aafal/CLIMADA_WD/climada_petals/doc/Projects/AT_SZ//mosaic/AT_SZ_MASS_BUILDING_MULTIFAMILY_TOTAL.vrt',\n",
    "             'C:/Users/aafal/CLIMADA_WD/climada_petals/doc/Projects/AT_SZ//mosaic/AT_SZ_MASS_BUILDING_SINGLEFAMILY_TOTAL.vrt']\n",
    "\n",
    "datasets = [gdal.Open(vrt) for vrt in vrt_files]\n",
    "\n",
    "vrt_merged = gdal.BuildVRT(\"temp_merged.vrt\", datasets)\n",
    "\n",
    "gdal.Translate(\"sz_residential.tif\", vrt_merged)"
   ]
  },
  {
   "cell_type": "code",
   "execution_count": null,
   "metadata": {},
   "outputs": [],
   "source": [
    "vrt_files = ['C:/Users/aafal/CLIMADA_WD/climada_petals/doc/Projects/AT_SZ//mosaic/AT_SZ_MASS_BUILDING_COMMERCIAL_TOTAL.vrt']\n",
    "\n",
    "datasets = [gdal.Open(vrt) for vrt in vrt_files]\n",
    "\n",
    "vrt_merged = gdal.BuildVRT(\"temp_merged.vrt\", datasets)\n",
    "\n",
    "gdal.Translate(\"sz_commercial.tif\", vrt_merged)"
   ]
  },
  {
   "cell_type": "code",
   "execution_count": null,
   "metadata": {},
   "outputs": [],
   "source": [
    "vrt_files = ['C:/Users/aafal/CLIMADA_WD/climada_petals/doc/Projects/AT_SZ//mosaic/AT_SZ_MASS_PARKING_TOTAL.vrt',\n",
    "            'C:/Users/aafal/CLIMADA_WD/climada_petals/doc/Projects/AT_SZ//mosaic/AT_SZ_MASS_RUNWAY_TOTAL.vrt']\n",
    "\n",
    "datasets = [gdal.Open(vrt) for vrt in vrt_files]\n",
    "\n",
    "vrt_merged = gdal.BuildVRT(\"temp_merged.vrt\", datasets)\n",
    "\n",
    "gdal.Translate(\"sz_transport.tif\", vrt_merged)"
   ]
  },
  {
   "cell_type": "code",
   "execution_count": null,
   "metadata": {},
   "outputs": [],
   "source": [
    "vrt_files = ['C:/Users/aafal/CLIMADA_WD/climada_petals/doc/Projects/AT_SZ//mosaic/AT_SZ_MASS_RAIL_TOTAL.vrt',\n",
    "            'C:/Users/aafal/CLIMADA_WD/climada_petals/doc/Projects/AT_SZ//mosaic/AT_SZ_MASS_STREET_TOTAL.vrt']\n",
    "\n",
    "datasets = [gdal.Open(vrt) for vrt in vrt_files]\n",
    "\n",
    "vrt_merged = gdal.BuildVRT(\"temp_merged.vrt\", datasets)\n",
    "\n",
    "gdal.Translate(\"sz_infrastructure.tif\", vrt_merged)"
   ]
  },
  {
   "cell_type": "code",
   "execution_count": null,
   "metadata": {},
   "outputs": [],
   "source": [
    "sz_res = prep_haberl_mod2('sz_residential.tif', 1)\n",
    "sz_com = prep_haberl_mod2('sz_commercial.tif', 3)\n",
    "sz_tra = prep_haberl_mod2('sz_transport.tif', 4)\n",
    "sz_inf = prep_haberl_mod2('sz_infrastructure.tif', 5)"
   ]
  },
  {
   "cell_type": "code",
   "execution_count": null,
   "metadata": {},
   "outputs": [],
   "source": [
    "total_sz_gdf= pd.concat([sz_res, sz_com, sz_tra, sz_inf], ignore_index=True)\n",
    "total_sz_gdf"
   ]
  },
  {
   "cell_type": "code",
   "execution_count": null,
   "metadata": {},
   "outputs": [],
   "source": [
    "total_sz_gdf.to_file('total_sz_gdf', driver=\"GPKG\")"
   ]
  },
  {
   "cell_type": "markdown",
   "metadata": {},
   "source": [
    "### BU"
   ]
  },
  {
   "cell_type": "code",
   "execution_count": null,
   "metadata": {},
   "outputs": [],
   "source": [
    "vrt_files = ['C:/Users/aafal/CLIMADA_WD/climada_petals/doc/Projects/AT_BU//mosaic/AT_BU_MASS_BUILDING_HIGHRISE_TOTAL.vrt', \n",
    "             'C:/Users/aafal/CLIMADA_WD/climada_petals/doc/Projects/AT_BU//mosaic/AT_BU_MASS_BUILDING_LIGHTWEIGHT_TOTAL.vrt', \n",
    "             'C:/Users/aafal/CLIMADA_WD/climada_petals/doc/Projects/AT_BU//mosaic/AT_BU_MASS_BUILDING_MULTIFAMILY_TOTAL.vrt',\n",
    "             'C:/Users/aafal/CLIMADA_WD/climada_petals/doc/Projects/AT_BU//mosaic/AT_BU_MASS_BUILDING_SINGLEFAMILY_TOTAL.vrt']\n",
    "\n",
    "datasets = [gdal.Open(vrt) for vrt in vrt_files]\n",
    "\n",
    "vrt_merged = gdal.BuildVRT(\"temp_merged.vrt\", datasets)\n",
    "\n",
    "gdal.Translate(\"bu_residential.tif\", vrt_merged)"
   ]
  },
  {
   "cell_type": "code",
   "execution_count": null,
   "metadata": {},
   "outputs": [],
   "source": [
    "vrt_files = ['C:/Users/aafal/CLIMADA_WD/climada_petals/doc/Projects/AT_BU//mosaic/AT_BU_MASS_BUILDING_COMMERCIAL_TOTAL.vrt']\n",
    "\n",
    "datasets = [gdal.Open(vrt) for vrt in vrt_files]\n",
    "\n",
    "vrt_merged = gdal.BuildVRT(\"temp_merged.vrt\", datasets)\n",
    "\n",
    "gdal.Translate(\"bu_commercial.tif\", vrt_merged)"
   ]
  },
  {
   "cell_type": "code",
   "execution_count": null,
   "metadata": {},
   "outputs": [],
   "source": [
    "vrt_files = ['C:/Users/aafal/CLIMADA_WD/climada_petals/doc/Projects/AT_BU//mosaic/AT_BU_MASS_PARKING_TOTAL.vrt',\n",
    "            'C:/Users/aafal/CLIMADA_WD/climada_petals/doc/Projects/AT_BU//mosaic/AT_BU_MASS_RUNWAY_TOTAL.vrt']\n",
    "\n",
    "datasets = [gdal.Open(vrt) for vrt in vrt_files]\n",
    "\n",
    "vrt_merged = gdal.BuildVRT(\"temp_merged.vrt\", datasets)\n",
    "\n",
    "gdal.Translate(\"bu_transport.tif\", vrt_merged)"
   ]
  },
  {
   "cell_type": "code",
   "execution_count": null,
   "metadata": {},
   "outputs": [],
   "source": [
    "vrt_files = ['C:/Users/aafal/CLIMADA_WD/climada_petals/doc/Projects/AT_BU//mosaic/AT_BU_MASS_RAIL_TOTAL.vrt',\n",
    "            'C:/Users/aafal/CLIMADA_WD/climada_petals/doc/Projects/AT_BU//mosaic/AT_BU_MASS_STREET_TOTAL.vrt']\n",
    "\n",
    "datasets = [gdal.Open(vrt) for vrt in vrt_files]\n",
    "\n",
    "vrt_merged = gdal.BuildVRT(\"temp_merged.vrt\", datasets)\n",
    "\n",
    "gdal.Translate(\"bu_infrastructure.tif\", vrt_merged)"
   ]
  },
  {
   "cell_type": "code",
   "execution_count": null,
   "metadata": {},
   "outputs": [],
   "source": [
    "bu_res = prep_haberl_mod2('bu_residential.tif', 1)\n",
    "bu_com = prep_haberl_mod2('bu_commercial.tif', 3)\n",
    "bu_tra = prep_haberl_mod2('bu_transport.tif', 4)\n",
    "bu_inf = prep_haberl_mod2('bu_infrastructure.tif', 5)"
   ]
  },
  {
   "cell_type": "code",
   "execution_count": null,
   "metadata": {},
   "outputs": [],
   "source": [
    "total_bu_gdf= pd.concat([bu_res, bu_com, bu_tra, bu_inf], ignore_index=True)\n",
    "total_bu_gdf"
   ]
  },
  {
   "cell_type": "code",
   "execution_count": null,
   "metadata": {},
   "outputs": [],
   "source": [
    "total_bu_gdf.to_file('total_bu_gdf', driver=\"GPKG\")"
   ]
  },
  {
   "cell_type": "markdown",
   "metadata": {},
   "source": [
    "### KA"
   ]
  },
  {
   "cell_type": "code",
   "execution_count": null,
   "metadata": {},
   "outputs": [],
   "source": [
    "vrt_files = ['C:/Users/aafal/CLIMADA_WD/climada_petals/doc/Projects/AT_KA//mosaic/AT_KA_MASS_BUILDING_HIGHRISE_TOTAL.vrt', \n",
    "             'C:/Users/aafal/CLIMADA_WD/climada_petals/doc/Projects/AT_KA//mosaic/AT_KA_MASS_BUILDING_LIGHTWEIGHT_TOTAL.vrt', \n",
    "             'C:/Users/aafal/CLIMADA_WD/climada_petals/doc/Projects/AT_KA//mosaic/AT_KA_MASS_BUILDING_MULTIFAMILY_TOTAL.vrt',\n",
    "             'C:/Users/aafal/CLIMADA_WD/climada_petals/doc/Projects/AT_KA//mosaic/AT_KA_MASS_BUILDING_SINGLEFAMILY_TOTAL.vrt']\n",
    "\n",
    "datasets = [gdal.Open(vrt) for vrt in vrt_files]\n",
    "\n",
    "vrt_merged = gdal.BuildVRT(\"temp_merged.vrt\", datasets)\n",
    "\n",
    "gdal.Translate(\"ka_residential.tif\", vrt_merged)"
   ]
  },
  {
   "cell_type": "code",
   "execution_count": null,
   "metadata": {},
   "outputs": [],
   "source": [
    "vrt_files = ['C:/Users/aafal/CLIMADA_WD/climada_petals/doc/Projects/AT_KA//mosaic/AT_KA_MASS_BUILDING_COMMERCIAL_TOTAL.vrt']\n",
    "\n",
    "datasets = [gdal.Open(vrt) for vrt in vrt_files]\n",
    "\n",
    "vrt_merged = gdal.BuildVRT(\"temp_merged.vrt\", datasets)\n",
    "\n",
    "gdal.Translate(\"ka_commercial.tif\", vrt_merged)"
   ]
  },
  {
   "cell_type": "code",
   "execution_count": null,
   "metadata": {},
   "outputs": [],
   "source": [
    "vrt_files = ['C:/Users/aafal/CLIMADA_WD/climada_petals/doc/Projects/AT_KA//mosaic/AT_KA_MASS_PARKING_TOTAL.vrt',\n",
    "            'C:/Users/aafal/CLIMADA_WD/climada_petals/doc/Projects/AT_KA//mosaic/AT_KA_MASS_RUNWAY_TOTAL.vrt']\n",
    "\n",
    "datasets = [gdal.Open(vrt) for vrt in vrt_files]\n",
    "\n",
    "vrt_merged = gdal.BuildVRT(\"temp_merged.vrt\", datasets)\n",
    "\n",
    "gdal.Translate(\"ka_transport.tif\", vrt_merged)"
   ]
  },
  {
   "cell_type": "code",
   "execution_count": null,
   "metadata": {},
   "outputs": [],
   "source": [
    "vrt_files = ['C:/Users/aafal/CLIMADA_WD/climada_petals/doc/Projects/AT_KA//mosaic/AT_KA_MASS_RAIL_TOTAL.vrt',\n",
    "            'C:/Users/aafal/CLIMADA_WD/climada_petals/doc/Projects/AT_KA//mosaic/AT_KA_MASS_STREET_TOTAL.vrt']\n",
    "\n",
    "datasets = [gdal.Open(vrt) for vrt in vrt_files]\n",
    "\n",
    "vrt_merged = gdal.BuildVRT(\"temp_merged.vrt\", datasets)\n",
    "\n",
    "gdal.Translate(\"ka_infrastructure.tif\", vrt_merged)"
   ]
  },
  {
   "cell_type": "code",
   "execution_count": null,
   "metadata": {},
   "outputs": [],
   "source": [
    "ka_res_flt = filter_zero_values('ka_residential.tif', 1, 1000)"
   ]
  },
  {
   "cell_type": "code",
   "execution_count": null,
   "metadata": {},
   "outputs": [],
   "source": [
    "ka_res_gdf = convert_to_geodataframe(ka_res_flt, \"EPSG:3035\",\"ka_residential\")\n",
    "ka_res_gdf"
   ]
  },
  {
   "cell_type": "code",
   "execution_count": null,
   "metadata": {},
   "outputs": [],
   "source": [
    "ka_com_flt = filter_zero_values('ka_commercial.tif', 3, 1000)"
   ]
  },
  {
   "cell_type": "code",
   "execution_count": null,
   "metadata": {},
   "outputs": [],
   "source": [
    "ka_com_gdf = convert_to_geodataframe(ka_com_flt, \"EPSG:3035\",\"ka_commercial\")\n",
    "ka_com_gdf"
   ]
  },
  {
   "cell_type": "code",
   "execution_count": null,
   "metadata": {},
   "outputs": [],
   "source": [
    "ka_tra_flt = filter_zero_values('ka_transport.tif', 4, 1000)"
   ]
  },
  {
   "cell_type": "code",
   "execution_count": null,
   "metadata": {},
   "outputs": [],
   "source": [
    "ka_tra_gdf = convert_to_geodataframe(ka_tra_flt, \"EPSG:3035\",\"ka_transport\")\n",
    "ka_tra_gdf"
   ]
  },
  {
   "cell_type": "code",
   "execution_count": null,
   "metadata": {},
   "outputs": [],
   "source": [
    "ka_inf_flt = filter_zero_values('ka_infrastructure.tif', 5, 1000)"
   ]
  },
  {
   "cell_type": "code",
   "execution_count": null,
   "metadata": {},
   "outputs": [],
   "source": [
    "ka_inf_gdf = convert_to_geodataframe(ka_inf_flt, \"EPSG:3035\",\"ka_infrastructure\")\n",
    "ka_inf_gdf"
   ]
  },
  {
   "cell_type": "code",
   "execution_count": null,
   "metadata": {},
   "outputs": [],
   "source": [
    "total_ka_gdf= pd.concat([ka_res_gdf, ka_com_gdf, ka_tra_gdf, ka_inf_gdf], ignore_index=True)\n",
    "total_ka_gdf"
   ]
  },
  {
   "cell_type": "code",
   "execution_count": null,
   "metadata": {},
   "outputs": [],
   "source": [
    "total_ka_gdf.to_file('total_ka_gdf', driver=\"GPKG\")"
   ]
  },
  {
   "cell_type": "markdown",
   "metadata": {},
   "source": [
    "### TR"
   ]
  },
  {
   "cell_type": "code",
   "execution_count": null,
   "metadata": {},
   "outputs": [],
   "source": [
    "vrt_files = ['C:/Users/aafal/CLIMADA_WD/climada_petals/doc/Projects/AT_TR//mosaic/AT_TR_MASS_BUILDING_HIGHRISE_TOTAL.vrt', \n",
    "             'C:/Users/aafal/CLIMADA_WD/climada_petals/doc/Projects/AT_TR//mosaic/AT_TR_MASS_BUILDING_LIGHTWEIGHT_TOTAL.vrt', \n",
    "             'C:/Users/aafal/CLIMADA_WD/climada_petals/doc/Projects/AT_TR//mosaic/AT_TR_MASS_BUILDING_MULTIFAMILY_TOTAL.vrt',\n",
    "             'C:/Users/aafal/CLIMADA_WD/climada_petals/doc/Projects/AT_TR//mosaic/AT_TR_MASS_BUILDING_SINGLEFAMILY_TOTAL.vrt']\n",
    "\n",
    "datasets = [gdal.Open(vrt) for vrt in vrt_files]\n",
    "\n",
    "vrt_merged = gdal.BuildVRT(\"temp_merged.vrt\", datasets)\n",
    "\n",
    "gdal.Translate(\"tr_residential.tif\", vrt_merged)"
   ]
  },
  {
   "cell_type": "code",
   "execution_count": null,
   "metadata": {},
   "outputs": [],
   "source": [
    "vrt_files = ['C:/Users/aafal/CLIMADA_WD/climada_petals/doc/Projects/AT_TR//mosaic/AT_TR_MASS_BUILDING_COMMERCIAL_TOTAL.vrt']\n",
    "\n",
    "datasets = [gdal.Open(vrt) for vrt in vrt_files]\n",
    "\n",
    "vrt_merged = gdal.BuildVRT(\"temp_merged.vrt\", datasets)\n",
    "\n",
    "gdal.Translate(\"tr_commercial.tif\", vrt_merged)"
   ]
  },
  {
   "cell_type": "code",
   "execution_count": null,
   "metadata": {},
   "outputs": [],
   "source": [
    "vrt_files = ['C:/Users/aafal/CLIMADA_WD/climada_petals/doc/Projects/AT_TR//mosaic/AT_TR_MASS_PARKING_TOTAL.vrt',\n",
    "            'C:/Users/aafal/CLIMADA_WD/climada_petals/doc/Projects/AT_TR//mosaic/AT_TR_MASS_RUNWAY_TOTAL.vrt']\n",
    "\n",
    "datasets = [gdal.Open(vrt) for vrt in vrt_files]\n",
    "\n",
    "vrt_merged = gdal.BuildVRT(\"temp_merged.vrt\", datasets)\n",
    "\n",
    "gdal.Translate(\"tr_transport.tif\", vrt_merged)"
   ]
  },
  {
   "cell_type": "code",
   "execution_count": null,
   "metadata": {},
   "outputs": [],
   "source": [
    "vrt_files = ['C:/Users/aafal/CLIMADA_WD/climada_petals/doc/Projects/AT_TR//mosaic/AT_TR_MASS_RAIL_TOTAL.vrt',\n",
    "            'C:/Users/aafal/CLIMADA_WD/climada_petals/doc/Projects/AT_TR//mosaic/AT_TR_MASS_STREET_TOTAL.vrt']\n",
    "\n",
    "datasets = [gdal.Open(vrt) for vrt in vrt_files]\n",
    "\n",
    "vrt_merged = gdal.BuildVRT(\"temp_merged.vrt\", datasets)\n",
    "\n",
    "gdal.Translate(\"tr_infrastructure.tif\", vrt_merged)"
   ]
  },
  {
   "cell_type": "code",
   "execution_count": null,
   "metadata": {},
   "outputs": [],
   "source": [
    "tr_res_flt = filter_zero_values('tr_residential.tif', 1, 1000)"
   ]
  },
  {
   "cell_type": "code",
   "execution_count": null,
   "metadata": {},
   "outputs": [],
   "source": [
    "tr_res_gdf = convert_to_geodataframe(tr_res_flt, \"EPSG:3035\",\"tr_residential\")\n",
    "tr_res_gdf"
   ]
  },
  {
   "cell_type": "code",
   "execution_count": null,
   "metadata": {},
   "outputs": [],
   "source": [
    "tr_com_flt = filter_zero_values('tr_commercial.tif', 3, 1000)"
   ]
  },
  {
   "cell_type": "code",
   "execution_count": null,
   "metadata": {},
   "outputs": [],
   "source": [
    "tr_com_gdf = convert_to_geodataframe(tr_com_flt, \"EPSG:3035\",\"tr_commercial\")\n",
    "tr_com_gdf"
   ]
  },
  {
   "cell_type": "code",
   "execution_count": null,
   "metadata": {},
   "outputs": [],
   "source": [
    "tr_tra_flt = filter_zero_values('tr_transport.tif', 4, 1000)"
   ]
  },
  {
   "cell_type": "code",
   "execution_count": null,
   "metadata": {},
   "outputs": [],
   "source": [
    "tr_tra_gdf = convert_to_geodataframe(tr_tra_flt, \"EPSG:3035\",\"tr_transport\")\n",
    "tr_tra_gdf"
   ]
  },
  {
   "cell_type": "code",
   "execution_count": null,
   "metadata": {},
   "outputs": [],
   "source": [
    "tr_inf_flt = filter_zero_values('tr_infrastructure.tif', 5, 1000)"
   ]
  },
  {
   "cell_type": "code",
   "execution_count": null,
   "metadata": {},
   "outputs": [],
   "source": [
    "tr_inf_gdf = convert_to_geodataframe(tr_inf_flt, \"EPSG:3035\",\"tr_infrastructure\")\n",
    "tr_inf_gdf"
   ]
  },
  {
   "cell_type": "code",
   "execution_count": null,
   "metadata": {},
   "outputs": [],
   "source": [
    "total_tr_gdf= pd.concat([tr_res_gdf, tr_com_gdf, tr_tra_gdf, tr_inf_gdf], ignore_index=True)\n",
    "total_tr_gdf"
   ]
  },
  {
   "cell_type": "code",
   "execution_count": null,
   "metadata": {},
   "outputs": [],
   "source": [
    "total_tr_gdf.to_file('total_tr_gdf', driver=\"GPKG\")"
   ]
  },
  {
   "cell_type": "markdown",
   "metadata": {},
   "source": [
    "### OO"
   ]
  },
  {
   "cell_type": "code",
   "execution_count": null,
   "metadata": {},
   "outputs": [],
   "source": [
    "vrt_files = ['C:/Users/aafal/CLIMADA_WD/climada_petals/doc/Projects/AT_OO//mosaic/AT_OO_MASS_BUILDING_HIGHRISE_TOTAL.vrt', \n",
    "             'C:/Users/aafal/CLIMADA_WD/climada_petals/doc/Projects/AT_OO//mosaic/AT_OO_MASS_BUILDING_LIGHTWEIGHT_TOTAL.vrt', \n",
    "             'C:/Users/aafal/CLIMADA_WD/climada_petals/doc/Projects/AT_OO//mosaic/AT_OO_MASS_BUILDING_MULTIFAMILY_TOTAL.vrt',\n",
    "             'C:/Users/aafal/CLIMADA_WD/climada_petals/doc/Projects/AT_OO//mosaic/AT_OO_MASS_BUILDING_SINGLEFAMILY_TOTAL.vrt']\n",
    "\n",
    "datasets = [gdal.Open(vrt) for vrt in vrt_files]\n",
    "\n",
    "vrt_merged = gdal.BuildVRT(\"temp_merged.vrt\", datasets)\n",
    "\n",
    "gdal.Translate(\"oo_residential.tif\", vrt_merged)"
   ]
  },
  {
   "cell_type": "code",
   "execution_count": null,
   "metadata": {},
   "outputs": [],
   "source": [
    "vrt_files = ['C:/Users/aafal/CLIMADA_WD/climada_petals/doc/Projects/AT_OO//mosaic/AT_OO_MASS_BUILDING_COMMERCIAL_TOTAL.vrt']\n",
    "\n",
    "datasets = [gdal.Open(vrt) for vrt in vrt_files]\n",
    "\n",
    "vrt_merged = gdal.BuildVRT(\"temp_merged.vrt\", datasets)\n",
    "\n",
    "gdal.Translate(\"oo_commercial.tif\", vrt_merged)"
   ]
  },
  {
   "cell_type": "code",
   "execution_count": null,
   "metadata": {},
   "outputs": [],
   "source": [
    "vrt_files = ['C:/Users/aafal/CLIMADA_WD/climada_petals/doc/Projects/AT_OO//mosaic/AT_OO_MASS_PARKING_TOTAL.vrt',\n",
    "            'C:/Users/aafal/CLIMADA_WD/climada_petals/doc/Projects/AT_OO//mosaic/AT_OO_MASS_RUNWAY_TOTAL.vrt']\n",
    "\n",
    "datasets = [gdal.Open(vrt) for vrt in vrt_files]\n",
    "\n",
    "vrt_merged = gdal.BuildVRT(\"temp_merged.vrt\", datasets)\n",
    "\n",
    "gdal.Translate(\"oo_transport.tif\", vrt_merged)"
   ]
  },
  {
   "cell_type": "code",
   "execution_count": null,
   "metadata": {},
   "outputs": [],
   "source": [
    "vrt_files = ['C:/Users/aafal/CLIMADA_WD/climada_petals/doc/Projects/AT_OO//mosaic/AT_OO_MASS_RAIL_TOTAL.vrt',\n",
    "            'C:/Users/aafal/CLIMADA_WD/climada_petals/doc/Projects/AT_OO//mosaic/AT_OO_MASS_STREET_TOTAL.vrt']\n",
    "\n",
    "datasets = [gdal.Open(vrt) for vrt in vrt_files]\n",
    "\n",
    "vrt_merged = gdal.BuildVRT(\"temp_merged.vrt\", datasets)\n",
    "\n",
    "gdal.Translate(\"oo_infrastructure.tif\", vrt_merged)"
   ]
  },
  {
   "cell_type": "code",
   "execution_count": null,
   "metadata": {},
   "outputs": [],
   "source": [
    "oo_res_flt = filter_zero_values('oo_residential.tif', 1, 1000)"
   ]
  },
  {
   "cell_type": "code",
   "execution_count": null,
   "metadata": {},
   "outputs": [],
   "source": [
    "oo_res_gdf = convert_to_geodataframe(oo_res_flt, \"EPSG:3035\",\"oo_residential\")\n",
    "oo_res_gdf"
   ]
  },
  {
   "cell_type": "code",
   "execution_count": null,
   "metadata": {},
   "outputs": [],
   "source": [
    "oo_com_flt = filter_zero_values('oo_commercial.tif', 3, 1000)"
   ]
  },
  {
   "cell_type": "code",
   "execution_count": null,
   "metadata": {},
   "outputs": [],
   "source": [
    "oo_com_gdf = convert_to_geodataframe(oo_com_flt, \"EPSG:3035\",\"oo_commercial\")\n",
    "oo_com_gdf"
   ]
  },
  {
   "cell_type": "code",
   "execution_count": null,
   "metadata": {},
   "outputs": [],
   "source": [
    "oo_tra_flt = filter_zero_values('oo_transport.tif', 4, 1000)"
   ]
  },
  {
   "cell_type": "code",
   "execution_count": null,
   "metadata": {},
   "outputs": [],
   "source": [
    "oo_tra_gdf = convert_to_geodataframe(oo_tra_flt, \"EPSG:3035\",\"oo_transport\")\n",
    "oo_tra_gdf"
   ]
  },
  {
   "cell_type": "code",
   "execution_count": null,
   "metadata": {},
   "outputs": [],
   "source": [
    "oo_inf_flt = filter_zero_values('oo_infrastructure.tif', 5, 1000)"
   ]
  },
  {
   "cell_type": "code",
   "execution_count": null,
   "metadata": {},
   "outputs": [],
   "source": [
    "oo_inf_gdf = convert_to_geodataframe(oo_inf_flt, \"EPSG:3035\",\"oo_infrastructure\")\n",
    "oo_inf_gdf"
   ]
  },
  {
   "cell_type": "code",
   "execution_count": null,
   "metadata": {},
   "outputs": [],
   "source": [
    "total_oo_gdf= pd.concat([oo_res_gdf, oo_com_gdf, oo_tra_gdf, oo_inf_gdf], ignore_index=True)\n",
    "total_oo_gdf"
   ]
  },
  {
   "cell_type": "code",
   "execution_count": null,
   "metadata": {},
   "outputs": [],
   "source": [
    "total_oo_gdf.to_file('total_oo_gdf', driver=\"GPKG\")"
   ]
  },
  {
   "cell_type": "markdown",
   "metadata": {},
   "source": [
    "### ST"
   ]
  },
  {
   "cell_type": "code",
   "execution_count": null,
   "metadata": {},
   "outputs": [],
   "source": [
    "vrt_files = ['C:/Users/aafal/CLIMADA_WD/climada_petals/doc/Projects/AT_ST//mosaic/AT_ST_MASS_BUILDING_HIGHRISE_TOTAL.vrt', \n",
    "             'C:/Users/aafal/CLIMADA_WD/climada_petals/doc/Projects/AT_ST//mosaic/AT_ST_MASS_BUILDING_LIGHTWEIGHT_TOTAL.vrt', \n",
    "             'C:/Users/aafal/CLIMADA_WD/climada_petals/doc/Projects/AT_ST//mosaic/AT_ST_MASS_BUILDING_MULTIFAMILY_TOTAL.vrt',\n",
    "             'C:/Users/aafal/CLIMADA_WD/climada_petals/doc/Projects/AT_ST//mosaic/AT_ST_MASS_BUILDING_SINGLEFAMILY_TOTAL.vrt']\n",
    "\n",
    "datasets = [gdal.Open(vrt) for vrt in vrt_files]\n",
    "\n",
    "vrt_merged = gdal.BuildVRT(\"temp_merged.vrt\", datasets)\n",
    "\n",
    "gdal.Translate(\"st_residential.tif\", vrt_merged)"
   ]
  },
  {
   "cell_type": "code",
   "execution_count": null,
   "metadata": {},
   "outputs": [],
   "source": [
    "vrt_files = ['C:/Users/aafal/CLIMADA_WD/climada_petals/doc/Projects/AT_ST//mosaic/AT_ST_MASS_BUILDING_COMMERCIAL_TOTAL.vrt']\n",
    "\n",
    "datasets = [gdal.Open(vrt) for vrt in vrt_files]\n",
    "\n",
    "vrt_merged = gdal.BuildVRT(\"temp_merged.vrt\", datasets)\n",
    "\n",
    "gdal.Translate(\"st_commercial.tif\", vrt_merged)"
   ]
  },
  {
   "cell_type": "code",
   "execution_count": null,
   "metadata": {},
   "outputs": [],
   "source": [
    "vrt_files = ['C:/Users/aafal/CLIMADA_WD/climada_petals/doc/Projects/AT_ST//mosaic/AT_ST_MASS_PARKING_TOTAL.vrt',\n",
    "            'C:/Users/aafal/CLIMADA_WD/climada_petals/doc/Projects/AT_ST//mosaic/AT_ST_MASS_RUNWAY_TOTAL.vrt']\n",
    "\n",
    "datasets = [gdal.Open(vrt) for vrt in vrt_files]\n",
    "\n",
    "vrt_merged = gdal.BuildVRT(\"temp_merged.vrt\", datasets)\n",
    "\n",
    "gdal.Translate(\"st_transport.tif\", vrt_merged)"
   ]
  },
  {
   "cell_type": "code",
   "execution_count": null,
   "metadata": {},
   "outputs": [],
   "source": [
    "vrt_files = ['C:/Users/aafal/CLIMADA_WD/climada_petals/doc/Projects/AT_ST//mosaic/AT_ST_MASS_RAIL_TOTAL.vrt',\n",
    "            'C:/Users/aafal/CLIMADA_WD/climada_petals/doc/Projects/AT_ST//mosaic/AT_ST_MASS_STREET_TOTAL.vrt']\n",
    "\n",
    "datasets = [gdal.Open(vrt) for vrt in vrt_files]\n",
    "\n",
    "vrt_merged = gdal.BuildVRT(\"temp_merged.vrt\", datasets)\n",
    "\n",
    "gdal.Translate(\"st_infrastructure.tif\", vrt_merged)"
   ]
  },
  {
   "cell_type": "code",
   "execution_count": null,
   "metadata": {},
   "outputs": [],
   "source": [
    "st_res_flt = filter_zero_values('st_residential.tif', 1, 1000)"
   ]
  },
  {
   "cell_type": "code",
   "execution_count": null,
   "metadata": {},
   "outputs": [],
   "source": [
    "st_res_gdf = convert_to_geodataframe(st_res_flt, \"EPSG:3035\",\"st_residential\")\n",
    "st_res_gdf"
   ]
  },
  {
   "cell_type": "code",
   "execution_count": null,
   "metadata": {},
   "outputs": [],
   "source": [
    "st_com_flt = filter_zero_values('st_commercial.tif', 3, 1000)"
   ]
  },
  {
   "cell_type": "code",
   "execution_count": null,
   "metadata": {},
   "outputs": [],
   "source": [
    "st_com_gdf = convert_to_geodataframe(st_com_flt, \"EPSG:3035\",\"st_commercial\")\n",
    "st_com_gdf"
   ]
  },
  {
   "cell_type": "code",
   "execution_count": null,
   "metadata": {},
   "outputs": [],
   "source": [
    "st_tra_flt = filter_zero_values('st_transport.tif', 4, 1000)"
   ]
  },
  {
   "cell_type": "code",
   "execution_count": null,
   "metadata": {},
   "outputs": [],
   "source": [
    "st_tra_gdf = convert_to_geodataframe(st_tra_flt, \"EPSG:3035\",\"st_transport\")\n",
    "st_tra_gdf"
   ]
  },
  {
   "cell_type": "code",
   "execution_count": null,
   "metadata": {},
   "outputs": [],
   "source": [
    "st_inf_flt = filter_zero_values('st_infrastructure.tif', 5, 1000)"
   ]
  },
  {
   "cell_type": "code",
   "execution_count": null,
   "metadata": {},
   "outputs": [],
   "source": [
    "st_inf_gdf = convert_to_geodataframe(st_inf_flt, \"EPSG:3035\",\"st_infrastructure\")\n",
    "st_inf_gdf"
   ]
  },
  {
   "cell_type": "code",
   "execution_count": null,
   "metadata": {},
   "outputs": [],
   "source": [
    "total_st_gdf= pd.concat([st_res_gdf, st_com_gdf, st_tra_gdf, st_inf_gdf], ignore_index=True)\n",
    "total_st_gdf"
   ]
  },
  {
   "cell_type": "code",
   "execution_count": null,
   "metadata": {},
   "outputs": [],
   "source": [
    "total_st_gdf.to_file('total_st_gdf', driver=\"GPKG\")"
   ]
  },
  {
   "cell_type": "markdown",
   "metadata": {},
   "source": [
    "### WI"
   ]
  },
  {
   "cell_type": "code",
   "execution_count": null,
   "metadata": {},
   "outputs": [],
   "source": [
    "vrt_files = ['C:/Users/aafal/CLIMADA_WD/climada_petals/doc/Projects/AT_WI//mosaic/AT_WI_MASS_BUILDING_HIGHRISE_TOTAL.vrt', \n",
    "             'C:/Users/aafal/CLIMADA_WD/climada_petals/doc/Projects/AT_WI//mosaic/AT_WI_MASS_BUILDING_LIGHTWEIGHT_TOTAL.vrt', \n",
    "             'C:/Users/aafal/CLIMADA_WD/climada_petals/doc/Projects/AT_WI//mosaic/AT_WI_MASS_BUILDING_MULTIFAMILY_TOTAL.vrt',\n",
    "             'C:/Users/aafal/CLIMADA_WD/climada_petals/doc/Projects/AT_WI//mosaic/AT_WI_MASS_BUILDING_SINGLEFAMILY_TOTAL.vrt']\n",
    "\n",
    "datasets = [gdal.Open(vrt) for vrt in vrt_files]\n",
    "\n",
    "vrt_merged = gdal.BuildVRT(\"temp_merged.vrt\", datasets)\n",
    "\n",
    "gdal.Translate(\"wi_residential.tif\", vrt_merged)"
   ]
  },
  {
   "cell_type": "code",
   "execution_count": null,
   "metadata": {},
   "outputs": [],
   "source": [
    "vrt_files = ['C:/Users/aafal/CLIMADA_WD/climada_petals/doc/Projects/AT_WI//mosaic/AT_WI_MASS_BUILDING_COMMERCIAL_TOTAL.vrt']\n",
    "\n",
    "datasets = [gdal.Open(vrt) for vrt in vrt_files]\n",
    "\n",
    "vrt_merged = gdal.BuildVRT(\"temp_merged.vrt\", datasets)\n",
    "\n",
    "gdal.Translate(\"wi_commercial.tif\", vrt_merged)"
   ]
  },
  {
   "cell_type": "code",
   "execution_count": null,
   "metadata": {},
   "outputs": [],
   "source": [
    "vrt_files = ['C:/Users/aafal/CLIMADA_WD/climada_petals/doc/Projects/AT_WI//mosaic/AT_WI_MASS_PARKING_TOTAL.vrt',\n",
    "            'C:/Users/aafal/CLIMADA_WD/climada_petals/doc/Projects/AT_WI//mosaic/AT_WI_MASS_RUNWAY_TOTAL.vrt']\n",
    "\n",
    "datasets = [gdal.Open(vrt) for vrt in vrt_files]\n",
    "\n",
    "vrt_merged = gdal.BuildVRT(\"temp_merged.vrt\", datasets)\n",
    "\n",
    "gdal.Translate(\"wi_transport.tif\", vrt_merged)"
   ]
  },
  {
   "cell_type": "code",
   "execution_count": null,
   "metadata": {},
   "outputs": [],
   "source": [
    "vrt_files = ['C:/Users/aafal/CLIMADA_WD/climada_petals/doc/Projects/AT_WI//mosaic/AT_WI_MASS_RAIL_TOTAL.vrt',\n",
    "            'C:/Users/aafal/CLIMADA_WD/climada_petals/doc/Projects/AT_WI//mosaic/AT_WI_MASS_STREET_TOTAL.vrt']\n",
    "\n",
    "datasets = [gdal.Open(vrt) for vrt in vrt_files]\n",
    "\n",
    "vrt_merged = gdal.BuildVRT(\"temp_merged.vrt\", datasets)\n",
    "\n",
    "gdal.Translate(\"wi_infrastructure.tif\", vrt_merged)"
   ]
  },
  {
   "cell_type": "code",
   "execution_count": null,
   "metadata": {},
   "outputs": [],
   "source": [
    "wi_res = prep_haberl_mod2('wi_residential.tif', 1)\n",
    "wi_com = prep_haberl_mod2('wi_commercial.tif', 3)\n",
    "wi_tra = prep_haberl_mod2('wi_transport.tif', 4)\n",
    "wi_inf = prep_haberl_mod2('wi_infrastructure.tif', 5)"
   ]
  },
  {
   "cell_type": "code",
   "execution_count": null,
   "metadata": {},
   "outputs": [],
   "source": [
    "total_wi_gdf= pd.concat([wi_res, wi_com, wi_tra, wi_inf], ignore_index=True)\n",
    "total_wi_gdf"
   ]
  },
  {
   "cell_type": "code",
   "execution_count": null,
   "metadata": {},
   "outputs": [],
   "source": [
    "total_wi_gdf.to_file('total_wi_gdf', driver=\"GPKG\")"
   ]
  },
  {
   "cell_type": "markdown",
   "metadata": {},
   "source": [
    "### NO"
   ]
  },
  {
   "cell_type": "code",
   "execution_count": null,
   "metadata": {},
   "outputs": [],
   "source": [
    "vrt_files = ['C:/Users/aafal/CLIMADA_WD/climada_petals/doc/Projects/AT_NO//mosaic/AT_NO_MASS_BUILDING_HIGHRISE_TOTAL.vrt', \n",
    "             'C:/Users/aafal/CLIMADA_WD/climada_petals/doc/Projects/AT_NO//mosaic/AT_NO_MASS_BUILDING_LIGHTWEIGHT_TOTAL.vrt', \n",
    "             'C:/Users/aafal/CLIMADA_WD/climada_petals/doc/Projects/AT_NO//mosaic/AT_NO_MASS_BUILDING_MULTIFAMILY_TOTAL.vrt',\n",
    "             'C:/Users/aafal/CLIMADA_WD/climada_petals/doc/Projects/AT_NO//mosaic/AT_NO_MASS_BUILDING_SINGLEFAMILY_TOTAL.vrt']\n",
    "\n",
    "datasets = [gdal.Open(vrt) for vrt in vrt_files]\n",
    "\n",
    "vrt_merged = gdal.BuildVRT(\"temp_merged.vrt\", datasets)\n",
    "\n",
    "gdal.Translate(\"no_residential.tif\", vrt_merged)"
   ]
  },
  {
   "cell_type": "code",
   "execution_count": null,
   "metadata": {},
   "outputs": [],
   "source": [
    "vrt_files = ['C:/Users/aafal/CLIMADA_WD/climada_petals/doc/Projects/AT_NO//mosaic/AT_NO_MASS_BUILDING_COMMERCIAL_TOTAL.vrt']\n",
    "\n",
    "datasets = [gdal.Open(vrt) for vrt in vrt_files]\n",
    "\n",
    "vrt_merged = gdal.BuildVRT(\"temp_merged.vrt\", datasets)\n",
    "\n",
    "gdal.Translate(\"no_commercial.tif\", vrt_merged)"
   ]
  },
  {
   "cell_type": "code",
   "execution_count": null,
   "metadata": {},
   "outputs": [],
   "source": [
    "vrt_files = ['C:/Users/aafal/CLIMADA_WD/climada_petals/doc/Projects/AT_NO//mosaic/AT_NO_MASS_PARKING_TOTAL.vrt',\n",
    "            'C:/Users/aafal/CLIMADA_WD/climada_petals/doc/Projects/AT_NO//mosaic/AT_NO_MASS_RUNWAY_TOTAL.vrt']\n",
    "\n",
    "datasets = [gdal.Open(vrt) for vrt in vrt_files]\n",
    "\n",
    "vrt_merged = gdal.BuildVRT(\"temp_merged.vrt\", datasets)\n",
    "\n",
    "gdal.Translate(\"no_transport.tif\", vrt_merged)"
   ]
  },
  {
   "cell_type": "code",
   "execution_count": null,
   "metadata": {},
   "outputs": [],
   "source": [
    "vrt_files = ['C:/Users/aafal/CLIMADA_WD/climada_petals/doc/Projects/AT_NO//mosaic/AT_NO_MASS_RAIL_TOTAL.vrt',\n",
    "            'C:/Users/aafal/CLIMADA_WD/climada_petals/doc/Projects/AT_NO//mosaic/AT_NO_MASS_STREET_TOTAL.vrt']\n",
    "\n",
    "datasets = [gdal.Open(vrt) for vrt in vrt_files]\n",
    "\n",
    "vrt_merged = gdal.BuildVRT(\"temp_merged.vrt\", datasets)\n",
    "\n",
    "gdal.Translate(\"no_infrastructure.tif\", vrt_merged)"
   ]
  },
  {
   "cell_type": "code",
   "execution_count": null,
   "metadata": {},
   "outputs": [],
   "source": [
    "no_res_flt = filter_zero_values('no_residential.tif', 1, 1000)"
   ]
  },
  {
   "cell_type": "code",
   "execution_count": null,
   "metadata": {},
   "outputs": [],
   "source": [
    "no_res_gdf = convert_to_geodataframe(no_res_flt, \"EPSG:3035\",\"no_residential\")\n",
    "no_res_gdf"
   ]
  },
  {
   "cell_type": "code",
   "execution_count": null,
   "metadata": {},
   "outputs": [],
   "source": [
    "no_com_flt = filter_zero_values('no_commercial.tif', 3, 1000)"
   ]
  },
  {
   "cell_type": "code",
   "execution_count": null,
   "metadata": {},
   "outputs": [],
   "source": [
    "no_com_gdf = convert_to_geodataframe(no_com_flt, \"EPSG:3035\",\"no_commercial\")\n",
    "no_com_gdf"
   ]
  },
  {
   "cell_type": "code",
   "execution_count": null,
   "metadata": {},
   "outputs": [],
   "source": [
    "no_tra_flt = filter_zero_values('no_transport.tif', 4, 1000)"
   ]
  },
  {
   "cell_type": "code",
   "execution_count": null,
   "metadata": {},
   "outputs": [],
   "source": [
    "no_tra_gdf = convert_to_geodataframe(no_tra_flt, \"EPSG:3035\",\"no_transport\")\n",
    "no_tra_gdf"
   ]
  },
  {
   "cell_type": "code",
   "execution_count": null,
   "metadata": {},
   "outputs": [],
   "source": [
    "no_inf_flt = filter_zero_values('no_infrastructure.tif', 5, 1000)"
   ]
  },
  {
   "cell_type": "code",
   "execution_count": null,
   "metadata": {},
   "outputs": [],
   "source": [
    "no_inf_gdf = convert_to_geodataframe(no_inf_flt, \"EPSG:3035\",\"no_infrastructure\")\n",
    "no_inf_gdf"
   ]
  },
  {
   "cell_type": "code",
   "execution_count": null,
   "metadata": {},
   "outputs": [],
   "source": [
    "total_no_gdf= pd.concat([no_res_gdf, no_com_gdf, no_tra_gdf, no_inf_gdf], ignore_index=True)\n",
    "total_no_gdf"
   ]
  },
  {
   "cell_type": "markdown",
   "metadata": {},
   "source": [
    "#### Division of the combined GeoDataFrame for Lower Austria into western (NO1) and eastern (NO2) parts"
   ]
  },
  {
   "cell_type": "code",
   "execution_count": null,
   "metadata": {},
   "outputs": [],
   "source": [
    "mid = (total_no_gdf['longitude'].min() + total_no_gdf['longitude'].max())/2\n",
    "\n",
    "gdf_east = total_no_gdf[total_no_gdf['longitude'] >= mid].copy()\n",
    "gdf_west = total_no_gdf[total_no_gdf['longitude'] < mid].copy()"
   ]
  },
  {
   "cell_type": "code",
   "execution_count": null,
   "metadata": {},
   "outputs": [],
   "source": [
    "gdf_west.to_file('total_no1_gdf', driver='GPKG')\n",
    "gdf_east.to_file('total_no2_gdf', driver='GPKG')"
   ]
  },
  {
   "cell_type": "markdown",
   "metadata": {},
   "source": [
    "# Exposure Module - value of assets (Part 1/2)"
   ]
  },
  {
   "cell_type": "markdown",
   "metadata": {},
   "source": [
    "## Generating LitPop Exposure dataset for Austria"
   ]
  },
  {
   "cell_type": "code",
   "execution_count": null,
   "metadata": {},
   "outputs": [],
   "source": [
    "lp_exp = LitPop.from_countries(['AUT'], fin_mode='pc', reference_year=2014)\n",
    "\n",
    "\n",
    "print(lp_exp.gdf.crs)\n",
    "print(lp_exp.gdf)\n",
    "print('Initial Total Exposure:', lp_exp.gdf['value'].sum())\n",
    "\n",
    "lp_exp.plot_hexbin(pop_name=True);"
   ]
  },
  {
   "cell_type": "markdown",
   "metadata": {},
   "source": [
    "## Making corrections to produced capital estimates of LitPop dataset"
   ]
  },
  {
   "cell_type": "code",
   "execution_count": null,
   "metadata": {},
   "outputs": [],
   "source": [
    "lp_cor = lp_exp.gdf.copy()\n",
    "lp_cor['value'] = lp_cor['value']/1.3\n",
    "\n",
    "print(lp_cor)\n",
    "print('Corrected Total Exposure:', lp_cor['value'].sum())"
   ]
  },
  {
   "cell_type": "markdown",
   "metadata": {},
   "source": [
    "## Creating Voronoi value polygon map for Austria using corrected LitPop dataset"
   ]
  },
  {
   "cell_type": "code",
   "execution_count": null,
   "metadata": {},
   "outputs": [],
   "source": [
    "gdf_values = lp_cor.to_crs(epsg=32633)\n",
    "gdf_values = gdf_values.reset_index(drop=True)\n",
    "\n",
    "points = np.array([[geom.x, geom.y] for geom in gdf_values.geometry])\n",
    "vor = Voronoi(points)\n",
    "\n",
    "bounding_poly = gdf_values.unary_union.convex_hull.buffer(10000)\n",
    "\n",
    "def construct_voronoi_polygons(vor, bounding_shape):\n",
    "    regions = []\n",
    "    for region_index in vor.point_region:\n",
    "        region = vor.regions[region_index]\n",
    "        if not region or -1 in region:\n",
    "            continue\n",
    "        try:\n",
    "            polygon = Polygon([vor.vertices[i] for i in region])\n",
    "            if polygon.is_valid and polygon.area > 0:\n",
    "                clipped = polygon.intersection(bounding_shape)\n",
    "                if not clipped.is_empty:\n",
    "                    regions.append(clipped)\n",
    "        except:\n",
    "            continue\n",
    "    return regions\n",
    "\n",
    "vor_polygons = construct_voronoi_polygons(vor, bounding_poly)\n",
    "gdf_voronoi = gpd.GeoDataFrame(geometry=vor_polygons, crs=gdf_values.crs)\n",
    "gdf_voronoi['gdf_values_id'] = range(len(gdf_voronoi))\n",
    "\n",
    "gdf_values['gdf_values_id'] = gdf_voronoi['gdf_values_id']\n",
    "gdf_voronoi = gdf_voronoi.merge(gdf_values[['gdf_values_id', 'value']], on='gdf_values_id')"
   ]
  },
  {
   "cell_type": "code",
   "execution_count": null,
   "metadata": {},
   "outputs": [],
   "source": [
    "gdf_voronoi = gdf_voronoi.to_crs(epsg=32633)"
   ]
  },
  {
   "cell_type": "markdown",
   "metadata": {},
   "source": [
    "### Visualisation for Vienna"
   ]
  },
  {
   "cell_type": "code",
   "execution_count": null,
   "metadata": {},
   "outputs": [],
   "source": [
    "vienna_bbox = box(16.2, 48.1, 16.6, 48.3)\n",
    "vienna_gdf = gpd.GeoDataFrame({'name': ['Vienna']}, geometry=[vienna_bbox], crs=\"EPSG:4326\")\n",
    "\n",
    "gdf_voronoi = gdf_voronoi.to_crs(epsg=3035)\n",
    "vienna_gdf = vienna_gdf.to_crs(epsg=3035)\n",
    "\n",
    "gdf_voronoi_clipped = gpd.overlay(gdf_voronoi, vienna_gdf, how='intersection')\n",
    "\n",
    "fig, ax = plt.subplots(figsize=(10, 10))\n",
    "\n",
    "voronoi_plot = gdf_voronoi_clipped.plot(column='value', cmap='viridis', edgecolor='black', ax=ax)\n",
    "\n",
    "vienna_gdf.boundary.plot(ax=ax, edgecolor='red', linewidth=2)\n",
    "\n",
    "sm = plt.cm.ScalarMappable(cmap='viridis', norm=plt.Normalize(vmin=gdf_voronoi_clipped['value'].min(), vmax=gdf_voronoi_clipped['value'].max()))\n",
    "sm.set_array([])  \n",
    "cbar = fig.colorbar(sm, ax=ax)\n",
    "cbar.set_label('Value')  \n",
    "\n",
    "plt.title(\"Voronoi Polygons Clipped to Vienna\")\n",
    "plt.xlabel(\"Longitude\")\n",
    "plt.ylabel(\"Latitude\")\n",
    "plt.grid(True)\n",
    "\n",
    "plt.show()"
   ]
  },
  {
   "cell_type": "markdown",
   "metadata": {},
   "source": [
    "## Preparing Exposure (assets) dataset for interpolation"
   ]
  },
  {
   "cell_type": "code",
   "execution_count": null,
   "metadata": {},
   "outputs": [],
   "source": [
    "total_gdf = gpd.read_file(\"total_wi_gdf\")"
   ]
  },
  {
   "cell_type": "code",
   "execution_count": null,
   "metadata": {},
   "outputs": [],
   "source": [
    "total_gdf = gpd.read_file(\"total_vo_gdf\")"
   ]
  },
  {
   "cell_type": "code",
   "execution_count": null,
   "metadata": {},
   "outputs": [],
   "source": [
    "total_gdf = gpd.read_file(\"total_bu_gdf\")"
   ]
  },
  {
   "cell_type": "code",
   "execution_count": null,
   "metadata": {},
   "outputs": [],
   "source": [
    "total_gdf = gpd.read_file(\"total_sz_gdf\")"
   ]
  },
  {
   "cell_type": "code",
   "execution_count": null,
   "metadata": {},
   "outputs": [],
   "source": [
    "total_gdf = gpd.read_file(\"total_tr_gdf\")"
   ]
  },
  {
   "cell_type": "code",
   "execution_count": null,
   "metadata": {},
   "outputs": [],
   "source": [
    "total_gdf = gpd.read_file(\"total_ka_gdf\")"
   ]
  },
  {
   "cell_type": "code",
   "execution_count": null,
   "metadata": {},
   "outputs": [],
   "source": [
    "total_gdf = gpd.read_file(\"total_oo_gdf\")"
   ]
  },
  {
   "cell_type": "code",
   "execution_count": null,
   "metadata": {},
   "outputs": [],
   "source": [
    "total_gdf = gpd.read_file(\"total_st_gdf\")"
   ]
  },
  {
   "cell_type": "code",
   "execution_count": null,
   "metadata": {},
   "outputs": [],
   "source": [
    "total_gdf = gpd.read_file(\"total_no1_gdf\")"
   ]
  },
  {
   "cell_type": "code",
   "execution_count": null,
   "metadata": {},
   "outputs": [],
   "source": [
    "total_gdf = gpd.read_file(\"total_no2_gdf\")"
   ]
  },
  {
   "cell_type": "code",
   "execution_count": null,
   "metadata": {},
   "outputs": [],
   "source": [
    "total_gdf['EPSG_4326']=total_gdf['geometry']"
   ]
  },
  {
   "cell_type": "code",
   "execution_count": null,
   "metadata": {},
   "outputs": [],
   "source": [
    "gdf_points = total_gdf.drop(columns=['value'])\n",
    "gdf_points = gdf_points.to_crs(epsg=32633)"
   ]
  },
  {
   "cell_type": "markdown",
   "metadata": {},
   "source": [
    "## Interpolation of LitPop values from Voronoi value polygon map on Exposure (assets) dataset"
   ]
  },
  {
   "cell_type": "code",
   "execution_count": null,
   "metadata": {},
   "outputs": [],
   "source": [
    "join = gpd.sjoin(gdf_points, gdf_voronoi, how='left', predicate='intersects')\n",
    "joined = join.copy()"
   ]
  },
  {
   "cell_type": "code",
   "execution_count": null,
   "metadata": {},
   "outputs": [],
   "source": [
    "weights_map = {\n",
    "    1: 0.50,\n",
    "    3: 0.20,\n",
    "    4: 0.10,\n",
    "    5: 0.20\n",
    "}\n",
    "\n",
    "joined['weight'] = joined['category_id'].map(weights_map).fillna(0)\n",
    "\n",
    "weight_sums = joined.groupby('gdf_values_id')['weight'].sum().rename('total_weight')\n",
    "\n",
    "joined = joined.merge(weight_sums, on='gdf_values_id', how='left')\n",
    "\n",
    "joined['assigned_value'] = joined.apply(\n",
    "    lambda row: row['value'] * row['weight'] / row['total_weight']\n",
    "    if row['total_weight'] > 0 else 0,\n",
    "    axis=1\n",
    ")\n",
    "\n",
    "total_exp = joined.drop(columns=['index_right','latitude','longitude','geometry','value', 'weight', 'total_weight']).copy()\n",
    "total_exp.rename(columns={'assigned_value': 'value'}, inplace=True)\n",
    "total_exp.rename(columns={'EPSG_4326': 'geometry'}, inplace=True)\n",
    "total_exp"
   ]
  },
  {
   "cell_type": "code",
   "execution_count": null,
   "metadata": {},
   "outputs": [],
   "source": [
    "total_exp.to_file('total_exp_no2', driver = 'GPKG')"
   ]
  },
  {
   "cell_type": "code",
   "execution_count": null,
   "metadata": {},
   "outputs": [],
   "source": [
    "total_exp_log = total_exp.copy()\n",
    "total_exp_log['value'] = total_exp_log['value'].apply(lambda x: 1 if x <= 0 else x)\n",
    "total_exp_log['value'] = np.log10(total_exp_log['value'])\n",
    "total_exp_log"
   ]
  },
  {
   "cell_type": "code",
   "execution_count": null,
   "metadata": {},
   "outputs": [],
   "source": [
    "total_exp_log.to_file('total_exp_log_no2', driver = 'GPKG')"
   ]
  },
  {
   "cell_type": "code",
   "execution_count": null,
   "metadata": {},
   "outputs": [],
   "source": [
    "test = gpd.read_file(\"total_exp_wi.gpkg\")\n",
    "test"
   ]
  },
  {
   "cell_type": "markdown",
   "metadata": {
    "editable": true,
    "slideshow": {
     "slide_type": ""
    },
    "tags": []
   },
   "source": [
    "# Extension - Critical Facilities"
   ]
  },
  {
   "cell_type": "markdown",
   "metadata": {},
   "source": [
    "## Import of geocoded infrastructure points from OSM using the Power key for Austria"
   ]
  },
  {
   "cell_type": "code",
   "execution_count": null,
   "metadata": {},
   "outputs": [],
   "source": [
    "iso3 = 'AUT'\n",
    "path_aut_dump = osm_flex.download.get_country_geofabrik(iso3)\n",
    "osm_flex.config.DICT_CIS_OSM.keys()"
   ]
  },
  {
   "cell_type": "code",
   "execution_count": null,
   "metadata": {},
   "outputs": [],
   "source": [
    "gdf_power_aut = osm_flex.extract.extract_cis(\n",
    "    path_aut_dump,\n",
    "    'power')"
   ]
  },
  {
   "cell_type": "code",
   "execution_count": null,
   "metadata": {},
   "outputs": [],
   "source": [
    "gdf_power_aut.to_file('gdf_power_aut', driver='GPKG')"
   ]
  },
  {
   "cell_type": "code",
   "execution_count": null,
   "metadata": {},
   "outputs": [],
   "source": [
    "ax = gdf_power_aut.plot(figsize=(15, 15), alpha=1, markersize=5, color='blue', edgecolor='blue')\n",
    "handles, labels = ax.get_legend_handles_labels()\n",
    "ax.legend(handles=handles, loc='upper left')\n",
    "ax.set_title('Power Facilities Austria', fontsize=25)\n",
    "plt.show()"
   ]
  },
  {
   "cell_type": "markdown",
   "metadata": {},
   "source": [
    "## Replacing the damage function with a custom one for critical infrastructure objects"
   ]
  },
  {
   "cell_type": "code",
   "execution_count": null,
   "metadata": {},
   "outputs": [],
   "source": [
    "total_exp = gpd.read_file(\"total_exp_st.gpkg\")"
   ]
  },
  {
   "cell_type": "code",
   "execution_count": null,
   "metadata": {},
   "outputs": [],
   "source": [
    "ext_total_exp = total_exp.copy()"
   ]
  },
  {
   "cell_type": "code",
   "execution_count": null,
   "metadata": {},
   "outputs": [],
   "source": [
    "gdf_power_aut= gpd.read_file(\"gdf_power_aut\")"
   ]
  },
  {
   "cell_type": "code",
   "execution_count": null,
   "metadata": {},
   "outputs": [],
   "source": [
    "col_to_update = 'impf_RF'\n",
    "\n",
    "update = gpd.sjoin(ext_total_exp, gdf_power_aut, predicate='intersects', how='inner')\n",
    "\n",
    "matching_indices = update.index\n",
    "\n",
    "ext_total_exp.loc[matching_indices, col_to_update] = 36"
   ]
  },
  {
   "cell_type": "code",
   "execution_count": null,
   "metadata": {},
   "outputs": [],
   "source": [
    "ext_total_exp.to_file('ext_total_exp_st', driver = 'GPKG')"
   ]
  },
  {
   "cell_type": "markdown",
   "metadata": {},
   "source": [
    "### Visualisation"
   ]
  },
  {
   "cell_type": "code",
   "execution_count": null,
   "metadata": {},
   "outputs": [],
   "source": [
    "power_wi = ext_total_exp[ext_total_exp['impf_RF']==36].to_crs(epsg=3857)\n",
    "\n",
    "fig, ax = plt.subplots(figsize=(10, 10))\n",
    "power_wi.plot(ax=ax, markersize=1, color='blue', alpha=0.7)\n",
    "\n",
    "ctx.add_basemap(ax, source=ctx.providers.OpenStreetMap.Mapnik)"
   ]
  },
  {
   "cell_type": "code",
   "execution_count": null,
   "metadata": {},
   "outputs": [],
   "source": [
    "vis_power = gdf_power_aut.to_crs(epsg=3857)\n",
    "\n",
    "fig, ax = plt.subplots(figsize=(15, 115))\n",
    "vis_power.plot(ax=ax, markersize=1, color='blue', alpha=0.7)\n",
    "\n",
    "ctx.add_basemap(ax, source=ctx.providers.OpenStreetMap.Mapnik)"
   ]
  },
  {
   "cell_type": "markdown",
   "metadata": {},
   "source": [
    "# Exposure Module - value of assets (Part 2/2)"
   ]
  },
  {
   "cell_type": "markdown",
   "metadata": {},
   "source": [
    "## Creating CLIMADA Exposure instance in original values for a selected region"
   ]
  },
  {
   "cell_type": "code",
   "execution_count": null,
   "metadata": {},
   "outputs": [],
   "source": [
    "ext_total_exp = gpd.read_file(\"ext_total_exp_wi.gpkg\")"
   ]
  },
  {
   "cell_type": "code",
   "execution_count": null,
   "metadata": {},
   "outputs": [],
   "source": [
    "exp = Exposures(ext_total_exp)\n",
    "exp.check()\n",
    "exp.plot_hexbin(pop_name=True);"
   ]
  },
  {
   "cell_type": "markdown",
   "metadata": {},
   "source": [
    "## Creating CLIMADA Exposure instance in log-transformed values for a selected region"
   ]
  },
  {
   "cell_type": "code",
   "execution_count": null,
   "metadata": {},
   "outputs": [],
   "source": [
    "ext_total_exp_log = ext_total_exp.copy()\n",
    "ext_total_exp_log['value'] = ext_total_exp_log['value'].apply(lambda x: 1 if x <= 0 else x)\n",
    "ext_total_exp_log['value'] = np.log10(ext_total_exp_log['value'])\n",
    "ext_total_exp_log"
   ]
  },
  {
   "cell_type": "code",
   "execution_count": null,
   "metadata": {},
   "outputs": [],
   "source": [
    "exp_log = Exposures(ext_total_exp_log)\n",
    "exp_log.check()\n",
    "exp_log.plot_hexbin(pop_name=True);"
   ]
  },
  {
   "cell_type": "markdown",
   "metadata": {},
   "source": [
    "# Impact Module"
   ]
  },
  {
   "cell_type": "markdown",
   "metadata": {},
   "source": [
    "## Initiation of average European sectoral damage functions"
   ]
  },
  {
   "cell_type": "code",
   "execution_count": null,
   "metadata": {},
   "outputs": [],
   "source": [
    "impf_set = flood_imp_func_set() \n",
    "impf_set.get_func()"
   ]
  },
  {
   "cell_type": "code",
   "execution_count": null,
   "metadata": {
    "ExecuteTime": {
     "end_time": "2021-03-05T11:50:19.985022Z",
     "start_time": "2021-03-05T11:50:19.527886Z"
    }
   },
   "outputs": [],
   "source": [
    "impf_EUR_Res = impf_set.get_func(fun_id=31)\n",
    "impf_EUR_Res[0].plot()\n",
    "impf_EUR_Com = impf_set.get_func(fun_id=32)\n",
    "impf_EUR_Com[0].plot()\n",
    "impf_EUR_Ind = impf_set.get_func(fun_id=33)\n",
    "impf_EUR_Ind[0].plot()\n",
    "impf_EUR_Tra = impf_set.get_func(fun_id=34)\n",
    "impf_EUR_Tra[0].plot()\n",
    "impf_EUR_Inf = impf_set.get_func(fun_id=35)\n",
    "impf_EUR_Inf[0].plot()\n",
    "impf_EUR_Cus = impf_set.get_func(fun_id=36)\n",
    "impf_EUR_Cus[0].plot()"
   ]
  },
  {
   "cell_type": "markdown",
   "metadata": {},
   "source": [
    "## Creating CLIMADA Impact instance under RCP2.6"
   ]
  },
  {
   "cell_type": "markdown",
   "metadata": {},
   "source": [
    "### Creating CLIMADA Impact instance in real values"
   ]
  },
  {
   "cell_type": "code",
   "execution_count": null,
   "metadata": {},
   "outputs": [],
   "source": [
    "imp=ImpactCalc(exp, impf_set,rf_26).impact(save_mat=True)\n",
    "print(f\"Aggregated average annual impact: {round(imp.aai_agg,0)} $\")\n",
    "imp.plot_hexbin_eai_exposure(adapt_fontsize=False, ignore_zero=False, buffer=0.05)\n",
    "\n",
    "freq_curve = imp.calc_freq_curve()\n",
    "freq_curve.plot();"
   ]
  },
  {
   "cell_type": "markdown",
   "metadata": {},
   "source": [
    "### Creating CLIMADA Impact instance in log-transformed values"
   ]
  },
  {
   "cell_type": "code",
   "execution_count": null,
   "metadata": {},
   "outputs": [],
   "source": [
    "imp=ImpactCalc(exp_log, impf_set,rf_26).impact(save_mat=True)\n",
    "print(f\"Aggregated average annual impact: {round(imp.aai_agg,0)} $\")\n",
    "imp.plot_hexbin_eai_exposure(adapt_fontsize=False, ignore_zero=False, buffer=0.05)"
   ]
  },
  {
   "cell_type": "markdown",
   "metadata": {},
   "source": [
    "## Creating CLIMADA Impact instance under RCP6.0"
   ]
  },
  {
   "cell_type": "markdown",
   "metadata": {},
   "source": [
    "### Creating CLIMADA Impact instance in real values"
   ]
  },
  {
   "cell_type": "code",
   "execution_count": null,
   "metadata": {},
   "outputs": [],
   "source": [
    "imp=ImpactCalc(exp, impf_set,rf_60).impact(save_mat=True)\n",
    "print(f\"Aggregated average annual impact: {round(imp.aai_agg,0)} $\")\n",
    "imp.plot_hexbin_eai_exposure(adapt_fontsize=False, ignore_zero=False, buffer=0.05)\n",
    "\n",
    "freq_curve = imp.calc_freq_curve()\n",
    "freq_curve.plot();"
   ]
  },
  {
   "cell_type": "markdown",
   "metadata": {},
   "source": [
    "### Creating CLIMADA Impact instance in log-transformed values"
   ]
  },
  {
   "cell_type": "code",
   "execution_count": null,
   "metadata": {},
   "outputs": [],
   "source": [
    "imp=ImpactCalc(exp_log, impf_set,rf_60).impact(save_mat=True)\n",
    "print(f\"Aggregated average annual impact: {round(imp.aai_agg,0)} $\")\n",
    "imp.plot_hexbin_eai_exposure(adapt_fontsize=False, ignore_zero=False, buffer=0.05)"
   ]
  },
  {
   "cell_type": "markdown",
   "metadata": {},
   "source": [
    "## Creating CLIMADA Impact instance under RCP8.5"
   ]
  },
  {
   "cell_type": "markdown",
   "metadata": {},
   "source": [
    "### Creating CLIMADA Impact instance in real values"
   ]
  },
  {
   "cell_type": "code",
   "execution_count": null,
   "metadata": {},
   "outputs": [],
   "source": [
    "imp=ImpactCalc(exp, impf_set,rf_85).impact(save_mat=True)\n",
    "print(f\"Aggregated average annual impact: {round(imp.aai_agg,0)} $\")\n",
    "imp.plot_hexbin_eai_exposure(adapt_fontsize=False, ignore_zero=False, buffer=0.05)\n",
    "\n",
    "freq_curve = imp.calc_freq_curve()\n",
    "freq_curve.plot();"
   ]
  },
  {
   "cell_type": "markdown",
   "metadata": {},
   "source": [
    "### Creating CLIMADA Impact instance in log-transformed values"
   ]
  },
  {
   "cell_type": "code",
   "execution_count": null,
   "metadata": {},
   "outputs": [],
   "source": [
    "imp=ImpactCalc(exp_log, impf_set,rf_85).impact(save_mat=True)\n",
    "print(f\"Aggregated average annual impact: {round(imp.aai_agg,0)} $\")\n",
    "imp.plot_hexbin_eai_exposure(adapt_fontsize=False, ignore_zero=False, buffer=0.05)"
   ]
  },
  {
   "cell_type": "markdown",
   "metadata": {},
   "source": [
    "# Use Case"
   ]
  },
  {
   "cell_type": "markdown",
   "metadata": {},
   "source": [
    "## Import of geocoded infrastructure points from OSM for Borealis Polyolefine GmbH"
   ]
  },
  {
   "cell_type": "code",
   "execution_count": null,
   "metadata": {},
   "outputs": [],
   "source": [
    "case_poly = ox.geocode_to_gdf(\"Borealis Polyolefine GmbH\")\n",
    "case_poly"
   ]
  },
  {
   "cell_type": "code",
   "execution_count": null,
   "metadata": {},
   "outputs": [],
   "source": [
    "case_area = gpd.read_file(\"ext_total_exp_no2.gpkg\")"
   ]
  },
  {
   "cell_type": "markdown",
   "metadata": {},
   "source": [
    "## Extracting points corresponding to the company's infrastructure objects from the Exposure (value of assets) dataset"
   ]
  },
  {
   "cell_type": "code",
   "execution_count": null,
   "metadata": {},
   "outputs": [],
   "source": [
    "case_exp = gpd.sjoin(case_area, case_poly, predicate='intersects', how='inner')"
   ]
  },
  {
   "cell_type": "code",
   "execution_count": null,
   "metadata": {},
   "outputs": [],
   "source": [
    "visual = case_exp.to_crs(epsg=3857)\n",
    "\n",
    "fig, ax = plt.subplots(figsize=(10, 10))\n",
    "visual.plot(ax=ax, markersize=4, color='blue', alpha=0.7)\n",
    "\n",
    "ctx.add_basemap(ax, source=ctx.providers.OpenStreetMap.Mapnik)"
   ]
  },
  {
   "cell_type": "code",
   "execution_count": null,
   "metadata": {},
   "outputs": [],
   "source": [
    "case_exp.to_file('case_exp.gpkg', driver = 'GPKG')"
   ]
  },
  {
   "cell_type": "markdown",
   "metadata": {},
   "source": [
    "## Creating CLIMADA Exposure instance in original values for the use case"
   ]
  },
  {
   "cell_type": "code",
   "execution_count": null,
   "metadata": {},
   "outputs": [],
   "source": [
    "case_exp = gpd.read_file(\"case_exp.gpkg\")"
   ]
  },
  {
   "cell_type": "code",
   "execution_count": null,
   "metadata": {},
   "outputs": [],
   "source": [
    "case = Exposures(case_exp)\n",
    "case.check()\n",
    "case.plot_hexbin(pop_name=True);"
   ]
  },
  {
   "cell_type": "markdown",
   "metadata": {},
   "source": [
    "## Creating CLIMADA Impact instance in real values under RCP2.6"
   ]
  },
  {
   "cell_type": "code",
   "execution_count": null,
   "metadata": {},
   "outputs": [],
   "source": [
    "case_imp = ImpactCalc(case, impf_set,rf_26).impact(save_mat=True)\n",
    "print(f\"Aggregated average annual impact: {round(case_imp.aai_agg,0)} $\")\n",
    "\n",
    "case_imp.plot_basemap_eai_exposure(adapt_fontsize=False, ignore_zero=False, buffer=0.05)\n",
    "\n",
    "freq_curve = case_imp.calc_freq_curve()\n",
    "freq_curve.plot();"
   ]
  },
  {
   "cell_type": "markdown",
   "metadata": {},
   "source": [
    "## Creating CLIMADA Impact instance in real values under RCP6.0"
   ]
  },
  {
   "cell_type": "code",
   "execution_count": null,
   "metadata": {},
   "outputs": [],
   "source": [
    "case_imp = ImpactCalc(case, impf_set,rf_60).impact(save_mat=True)\n",
    "print(f\"Aggregated average annual impact: {round(case_imp.aai_agg,0)} $\")\n",
    "\n",
    "case_imp.plot_basemap_eai_exposure(adapt_fontsize=False, ignore_zero=False, buffer=0.05)\n",
    "\n",
    "freq_curve = case_imp.calc_freq_curve()\n",
    "freq_curve.plot();"
   ]
  },
  {
   "cell_type": "markdown",
   "metadata": {},
   "source": [
    "## Creating CLIMADA Impact instance in real values under RCP8.5"
   ]
  },
  {
   "cell_type": "code",
   "execution_count": null,
   "metadata": {},
   "outputs": [],
   "source": [
    "case_imp = ImpactCalc(case, impf_set,rf_85).impact(save_mat=True)\n",
    "print(f\"Aggregated average annual impact: {round(case_imp.aai_agg,0)} $\")\n",
    "\n",
    "case_imp.plot_basemap_eai_exposure(adapt_fontsize=False, ignore_zero=False, buffer=0.05)\n",
    "\n",
    "freq_curve = case_imp.calc_freq_curve()\n",
    "freq_curve.plot();"
   ]
  }
 ],
 "metadata": {
  "hide_input": false,
  "kernelspec": {
   "display_name": "Python 3 (ipykernel)",
   "language": "python",
   "name": "python3"
  },
  "language_info": {
   "codemirror_mode": {
    "name": "ipython",
    "version": 3
   },
   "file_extension": ".py",
   "mimetype": "text/x-python",
   "name": "python",
   "nbconvert_exporter": "python",
   "pygments_lexer": "ipython3",
   "version": "3.11.11"
  },
  "latex_envs": {
   "LaTeX_envs_menu_present": true,
   "autoclose": false,
   "autocomplete": true,
   "bibliofile": "biblio.bib",
   "cite_by": "apalike",
   "current_citInitial": 1,
   "eqLabelWithNumbers": true,
   "eqNumInitial": 1,
   "hotkeys": {
    "equation": "Ctrl-E",
    "itemize": "Ctrl-I"
   },
   "labels_anchors": false,
   "latex_user_defs": false,
   "report_style_numbering": false,
   "user_envs_cfg": false
  },
  "toc": {
   "base_numbering": 1,
   "nav_menu": {},
   "number_sections": true,
   "sideBar": true,
   "skip_h1_title": false,
   "title_cell": "Table of Contents",
   "title_sidebar": "Contents",
   "toc_cell": false,
   "toc_position": {},
   "toc_section_display": true,
   "toc_window_display": false
  }
 },
 "nbformat": 4,
 "nbformat_minor": 4
}
